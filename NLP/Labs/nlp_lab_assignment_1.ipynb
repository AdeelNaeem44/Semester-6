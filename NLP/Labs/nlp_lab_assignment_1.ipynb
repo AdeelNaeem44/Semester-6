{
 "cells": [
  {
   "cell_type": "code",
   "execution_count": 14,
   "metadata": {},
   "outputs": [],
   "source": [
    "import nltk\n",
    "from nltk.corpus import stopwords\n",
    "from nltk.tokenize import word_tokenize\n",
    "import string\n"
   ]
  },
  {
   "cell_type": "markdown",
   "metadata": {},
   "source": [
    "# Extracting english text"
   ]
  },
  {
   "cell_type": "code",
   "execution_count": 15,
   "metadata": {},
   "outputs": [
    {
     "name": "stdout",
     "output_type": "stream",
     "text": [
      "This is language processing\n"
     ]
    }
   ],
   "source": [
    "\n",
    "text = \"This is  لرچین language processing ہاگ ہبرجت  \"\n",
    "\n",
    "\n",
    "words = word_tokenize(text)\n",
    "\n",
    "english_words = [word for word in words if all(c in string.ascii_letters for c in word)]\n",
    "\n",
    "extracted_text = \" \".join(english_words)\n",
    "print(extracted_text)\n"
   ]
  },
  {
   "cell_type": "code",
   "execution_count": 16,
   "metadata": {},
   "outputs": [
    {
     "name": "stdout",
     "output_type": "stream",
     "text": [
      "I am fine\n"
     ]
    }
   ],
   "source": [
    "text='你好, I am fine, 你 那 '\n",
    "tokenize_word=word_tokenize(text)\n",
    "english_words=[word for word in tokenize_word if all(w in string.ascii_letters for w in word)]\n",
    "extract_text=' '.join(english_words)\n",
    "print(extract_text)"
   ]
  },
  {
   "cell_type": "markdown",
   "metadata": {},
   "source": [
    "# lemmitization and stemming"
   ]
  },
  {
   "cell_type": "code",
   "execution_count": null,
   "metadata": {},
   "outputs": [
    {
     "name": "stdout",
     "output_type": "stream",
     "text": [
      "['hire', 'go', 'better']\n"
     ]
    }
   ],
   "source": [
    "from nltk.stem import PorterStemmer\n",
    "ps = PorterStemmer()\n",
    "words = [\"hiring\", \"going\", \"better\"]\n",
    "stemmed_words = [ps.stem(word) for word in words]\n",
    "print(stemmed_words)\n"
   ]
  },
  {
   "cell_type": "code",
   "execution_count": 26,
   "metadata": {},
   "outputs": [
    {
     "name": "stdout",
     "output_type": "stream",
     "text": [
      "reduce\n",
      "move\n",
      "drive\n"
     ]
    }
   ],
   "source": [
    "from nltk.stem import WordNetLemmatizer\n",
    "lemmatizer = WordNetLemmatizer()\n",
    "word = [\"reducing\",\"moving\",'driving']\n",
    "for w in word:\n",
    "   lemma = lemmatizer.lemmatize(w,pos='v')\n",
    "   print(lemma)\n",
    "\n"
   ]
  },
  {
   "cell_type": "markdown",
   "metadata": {},
   "source": [
    "# Stopwords"
   ]
  },
  {
   "cell_type": "code",
   "execution_count": 27,
   "metadata": {},
   "outputs": [
    {
     "name": "stdout",
     "output_type": "stream",
     "text": [
      "['a', 'about', 'above', 'after', 'again', 'against', 'ain', 'all', 'am', 'an', 'and', 'any', 'are', 'aren', \"aren't\", 'as', 'at', 'be', 'because', 'been', 'before', 'being', 'below', 'between', 'both', 'but', 'by', 'can', 'couldn', \"couldn't\", 'd', 'did', 'didn', \"didn't\", 'do', 'does', 'doesn', \"doesn't\", 'doing', 'don', \"don't\", 'down', 'during', 'each', 'few', 'for', 'from', 'further', 'had', 'hadn', \"hadn't\", 'has', 'hasn', \"hasn't\", 'have', 'haven', \"haven't\", 'having', 'he', \"he'd\", \"he'll\", 'her', 'here', 'hers', 'herself', \"he's\", 'him', 'himself', 'his', 'how', 'i', \"i'd\", 'if', \"i'll\", \"i'm\", 'in', 'into', 'is', 'isn', \"isn't\", 'it', \"it'd\", \"it'll\", \"it's\", 'its', 'itself', \"i've\", 'just', 'll', 'm', 'ma', 'me', 'mightn', \"mightn't\", 'more', 'most', 'mustn', \"mustn't\", 'my', 'myself', 'needn', \"needn't\", 'no', 'nor', 'not', 'now', 'o', 'of', 'off', 'on', 'once', 'only', 'or', 'other', 'our', 'ours', 'ourselves', 'out', 'over', 'own', 're', 's', 'same', 'shan', \"shan't\", 'she', \"she'd\", \"she'll\", \"she's\", 'should', 'shouldn', \"shouldn't\", \"should've\", 'so', 'some', 'such', 't', 'than', 'that', \"that'll\", 'the', 'their', 'theirs', 'them', 'themselves', 'then', 'there', 'these', 'they', \"they'd\", \"they'll\", \"they're\", \"they've\", 'this', 'those', 'through', 'to', 'too', 'under', 'until', 'up', 've', 'very', 'was', 'wasn', \"wasn't\", 'we', \"we'd\", \"we'll\", \"we're\", 'were', 'weren', \"weren't\", \"we've\", 'what', 'when', 'where', 'which', 'while', 'who', 'whom', 'why', 'will', 'with', 'won', \"won't\", 'wouldn', \"wouldn't\", 'y', 'you', \"you'd\", \"you'll\", 'your', \"you're\", 'yours', 'yourself', 'yourselves', \"you've\"]\n"
     ]
    }
   ],
   "source": [
    "print(stopwords.words('english'))"
   ]
  },
  {
   "cell_type": "code",
   "execution_count": 34,
   "metadata": {},
   "outputs": [
    {
     "name": "stdout",
     "output_type": "stream",
     "text": [
      "{'だ', 'により', '彼', 'でき', 'とともに', 'いる', 'もの', 'なく', 'お', 'れる', 'ます', 'ん', '貴方', 'では', 'こと', 'の', 'に対して', 'さらに', '貴方方', 'ほとんど', 'おり', 'といった', 'による', 'まで', 'ため', 'うち', 'ほど', 'ほか', 'なっ', 'こちら', 'れ', 'この', 'き', 'でも', 'な', 'にて', 'せる', 'より', 'どこ', 'あります', 'です', 'あの人', 'として', 'も', 'つ', 'ば', 'られる', 'そして', 'なら', 'における', 'あれ', 'に', 'どの', 'なお', 'それぞれ', 'う', 'とき', 'これら', 'その他', 'なん', 'できる', 'あの', 'あり', 'および', 'が', 'たり', 'ところ', 'から', 'か', 'で', 'と', 'それ', 'とも', 'ない', 'かつて', 'を', 'その', 'する', 'に対する', 'あのかた', 'ながら', 'また', 'に関する', '私達', '特に', 'あっ', 'それで', 'ここ', 'と共に', 'のみ', '我々', 'は', 'において', '何', 'なり', 'や', 'ので', 'しかし', 'だっ', 'なに', 'し', 'これ', '彼女', 'て', 'あそこ', 'い', '私', 'おります', 'います', 'その後', 'ただし', 'へ', 'によって', 'いう', 'なる', 'ら', 'だれ', 'よう', 'そこ', 'ある', 'え', 'ず', 'た', 'など', 'ものの', '及び', 'について', 'たち', 'なかっ', 'さ', 'または', 'られ', 'せ', 'という'}\n"
     ]
    }
   ],
   "source": [
    "from stopwordsiso import stopwords\n",
    "print(stopwords('ja'))\n"
   ]
  },
  {
   "cell_type": "code",
   "execution_count": 39,
   "metadata": {},
   "outputs": [
    {
     "name": "stdout",
     "output_type": "stream",
     "text": [
      "{'ph', 'havent', 'itd', 'my', 'miss', 'h', 'fr', 'usefully', 'yes', 'll', 'thick', 'help', 'call', 'thoughh', 'presenting', 'theirs', 'become', 'are', \"haven't\", 'during', 'words', 'mil', 'immediately', 'sensible', \"wasn't\", \"they've\", 'va', 'yu', 'potentially', 'accordance', 'm', 'begins', 'so', 'undoing', 'cl', 'th', 'tp', 'available', 'invention', 'fx', 'significantly', 'ly', 'however', 'ran', 'fully', 'dear', 'gt', 'possible', 'yt', 'tried', \"we're\", 'vc', 'rd', \"here's\", 'dj', 'et', 'et-al', \"you're\", 'qv', \"that's\", 'gives', 'mz', 'ad', 'amoungst', 'felt', 'round', 'consequently', 'described', 'recent', 'lu', 'similarly', \"mightn't\", 'uk', 'placed', 'look', 's', \"mustn't\", 'anything', 'anybody', 'different', 'moreover', \"c'mon\", 'or', 'gr', 'fk', \"they'll\", 'twenty', 'inc.', 'hk', 'thinks', 'opens', 'indicate', 'top', 'next', 'bd', 'thats', 'not', 'heres', 'possibly', 'then', 'kept', 'bi', 'yet', 'face', 'everybody', 'py', 'world', 'parted', 'well', 'five', 'thorough', 'fm', 'youd', 'comes', 'hardly', \"isn't\", 'oughtnt', 'whose', 'presented', 'currently', 'works', 'affecting', 'dz', 'noted', 'z', \"i'd\", 'previously', 'against', 'really', 'before', 'was', '39', 'owing', 'qa', 'allow', 'um', 'wouldnt', \"where'd\", 'er', 'np', 'eighty', 'certainly', 'hopefully', 'mr', 'own', 'sa', 'provides', 'kind', 'approximately', 'wasnt', 'whereby', 'thereof', 'bm', 'this', 'down', 'width', 'second', 'act', 'where', 'ive', 'sometime', 'bs', 'backed', 'nc', 'instead', \"there're\", 'howbeit', 'cc', 'else', 'showns', 'reserved', 'gl', 'among', 't', 'til', 'versus', 'two', 'could', 'sg', 'get', 'obtain', 'usually', 'nz', \"doesn't\", \"oughtn't\", 'that', 'anyhow', 'r', 'thru', 'bf', 'whats', 'io', \"mayn't\", 'mug', 'fifth', 'seems', \"they'd\", 'appropriate', 'via', \"what's\", 'tn', 'weve', \"i've\", 'thought', 'forward', 'aside', \"that've\", 'pk', 'test', 'fix', 'ordered', 'everything', \"you'd\", 'ah', 'hr', 'small', 'followed', 'looking', 'shows', 'ten', 'g', 'ex', 'throug', 'until', 'wheres', 'willing', 'keys', 'front', 'do', 'work', 'okay', 'mt', 'bill', 'inner', 'underneath', \"she's\", 'uses', 'st', 'yourselves', 'last', 'taken', 'further', 'predominantly', 'nl', \"it'll\", 'appreciate', 'sup', 'bj', 'arise', 'off', 'weren', 'pages', 'regarding', 'section', 'int', 'bh', 'relatively', 'important', 'furthers', 'sr', 'once', 'million', 'ws', 'hes', \"what'd\", 'ci', 'couldnt', 'anyone', 'containing', 'tr', 'ought', 'htm', 'yourself', 'beforehand', 'sj', 'forth', 'noone', \"there'll\", 'effect', 'sc', 'mainly', 'ml', 'ga', 'trying', 'areas', 'fewer', 'along', 'longest', 'gu', 'allows', \"would've\", 'nor', 'thatll', 'evermore', 'ye', 'large', 'anymore', \"that'll\", 'ninety', 'fill', 'ups', 'him', 'didnt', 'into', 'sees', 'significant', 'least', 'makes', 'either', \"'tis\", 'gf', 'regardless', 'if', 'provided', 'still', 'serious', 'neither', 'twas', \"didn't\", 'about', 'null', 'latest', 'asks', 'vi', 'alongside', 'largely', 'pe', 'evenly', 'copy', 'darent', 'same', 'themselves', 'many', 'eight', 'far', 'gm', 'specify', 'brief', 'lower', 'nevertheless', 'ordering', 'yours', 'probably', 'sides', 'ag', 'again', 'nowhere', 'shown', 'amongst', 'd', 'more', 'try', \"i'll\", 'thereto', 'mw', 'thin', \"who'd\", 'e', 'ourselves', 'away', 'lc', 'mg', 'toward', 'run', 'selves', 'nu', \"shan't\", 'whereafter', 'ca', 'u', 'k', 'join', 'thou', 'aq', 'every', 'thing', 'theyre', 'uy', 'differ', 'system', 'asked', 'besides', 'presumably', 'edu', 'whereupon', \"why's\", 'should', 'goes', 'room', 'tf', 'ignored', 'resulting', 'quite', 'shouldn', 'arent', 'highest', 'end', 'anywhere', 'sixty', 'greater', 'perhaps', 'shouldnt', 'himself', 'eg', 'latterly', 'trillion', 'downs', 'isnt', 'point', 'normally', 'rw', 'forty', 'too', 'ae', 'hasnt', 'longer', 'otherwise', 'ours', 'backing', 'took', \"when'll\", 'youve', 'long', 'i.e.', 'might', 'ua', 'na', 'seconds', 'necessarily', 'sure', 'lb', 'things', 'less', 'enough', 'microsoft', 'herse”', 'does', 'several', 'an', 'inasmuch', 'free', 'generally', 'mo', 'higher', 'home', 'pl', 'greetings', 'furthermore', 'novel', \"they're\", 'differently', 'nay', 'below', 'pf', 'even', 'somewhat', 'wf', 'getting', 'ao', 'ff', 'shall', 'always', 'gh', 'ne', 'forever', 'thanx', 'primarily', 'seriously', 'tg', 'young', 'turns', 'co.', 'how', 'jo', 'cr', 'side', 'area', \"must've\", 'myself', 'showing', 'known', 'first', 'cmon', 'usefulness', 'backward', 'seventy', 'ky', 'give', 'whatever', 'grouped', 'fifteen', 'gd', 'appear', 'year', 'smallest', 'importance', 'homepage', 'state', 'used', 'consider', 'numbers', 'secondly', 'nr', 'com', 'whom', 'whatll', 'after', 'cz', 'whilst', 'turning', 'az', 'page', 'sorry', 'come', 'seeing', 'tis', 'because', 'facts', 'l', 'just', 'your', 'became', 'cv', 'kw', 'cm', 'unfortunately', 'obtained', 'pw', 'open', 'means', 'sz', 'up', 'found', 'ir', 'therefore', 'mrs', 'must', 'seeming', 'farther', 'opened', 'six', 'towards', 'biol', 'himse”', 'inside', 'accordingly', 'name', 'netscape', 'points', 'number', 'caption', \"couldn't\", 'nf', 'amid', 'mv', 'maynt', 'mustnt', 'according', 'briefly', 'between', 'beginning', 'whether', 'ending', 'wouldn', 'am', 'ones', 'don', 'dont', 'considering', 'org', 'thered', 'ge', 'wasn', 'gp', 'gq', 'unlikely', 'especially', 'cs', 'gi', 'pmid', 'per', 'sd', 'viz', 'jm', 'twelve', 'nonetheless', 'these', 'much', 'bz', 'able', 'knew', 'stop', \"there've\", 'made', 'tz', 'za', 'despite', 'wherein', 'lk', 'vu', 'cf', 'anyways', 'aw', \"why'll\", 'sy', 'clear', \"there's\", 'almost', 'got', 'pointed', \"where's\", 'kh', 'added', 'better', 'think', 'adopted', 'wonder', 'itll', 'to', 'ru', \"hasn't\", 'such', 'newest', \"shouldn't\", 'shell', \"'ve\", 'neednt', 'uucp', 'us', 'date', \"who'll\", 'br', 'aren', \"don't\", 'li', 'je', 're', 'itself', 'cause', 'results', 'neverf', 'tw', 'at', 'taking', 'but', 'unless', 'bottom', 'bo', 'sometimes', 'arpa', 'without', 'hers', 'corresponding', 'describe', 'from', 'wed', 'pt', 'td', 'un', 'changes', 'kz', 'tell', 'whod', 'ask', 'nothing', 'interest', 'seven', \"how's\", 'out', 'whos', 'someone', 'she', 'problem', 'therell', 'billion', 'mostly', 'tt', 'group', 'computer', 'substantially', 'la', \"it's\", 'than', 'men', 'ableabout', 'promptly', 'member', \"he'd\", 'value', 'rooms', 'unlike', 'new', 'hadnt', 'ended', 'thoughts', \"he'll\", 'ed', 'had', 'said', 'proud', 'his', 'fifty', \"needn't\", 'gn', 'have', 'clearly', 'make', \"it'd\", 'cd', 'immediate', 'old', 'bb', 'thereve', 'contains', 'bw', 'zero', 'hereby', 'namely', 'knows', 'readily', 'click', 'lv', 'those', 'gone', 'vol', 'hither', 'very', 'nos', 'hn', 'resulted', 'with', 'fairly', 'upon', 'although', 'sub', 'om', 'orders', 'wont', 'which', 'vn', 'won', 'website', 'gets', 'neverless', \"won't\", 'gave', 'see', 'somebody', \"what've\", 'omitted', 'newer', 'nobody', 'backwards', 'lets', \"i'm\", 'cg', 'downed', 'html', 'thousand', 'going', 'gov', 'youre', 'maybe', 'id', 'nearly', \"should've\", 'having', 'alone', 'ahead', 'specifying', 'index', 'hed', 'often', 'empty', 'itse”', 'ke', 'se', 'gotten', 'y', 'haven', 'doesnt', 'shant', 'smaller', 'ch', 'happens', 'turned', 'man', 'amidst', 'since', 'whenever', 'someday', 'wherever', 'good', 'particularly', 'due', \"when's\", 'theres', 'auth', 'across', 'today', 'me', \"ain't\", 'in', 'theyd', 'within', 'over', 'half', 'by', 'ways', 'cant', '10', 'one', 'tends', 'tc', 'whatve', 'definitely', 'oldest', 'our', 'wanted', \"could've\", 'ls', 'three', \"we've\", 'sufficiently', 'through', 'gb', 'ie', 'way', 'says', 'order', \"wouldn't\", 'mx', 'big', 'que', 'all', 'groups', 'quickly', 'thereafter', 'cases', 'whomever', 'lt', 'near', 'announce', 'other', 'gg', 'mightnt', 'go', 'detail', 'hereafter', 'fi', 'part', 'needs', 'right', 'abst', 'places', 'therere', 'use', 'only', 'plus', 'hence', 'sent', 'ago', 'when', 'affects', \"who's\", 'mm', 'sn', 'ck', 'bv', 'elsewhere', 'gmt', 'kg', 'length', 'ts', 'little', 'thereupon', 'under', 'parting', 'saying', 'ok', \"we'll\", 'here', 'course', \"one's\", 'began', 'regards', 'necessary', 'place', 'ar', 'associated', 'no', 'for', 'find', 'ng', 'hm', 'overall', \"'twas\", 'know', 'zr', 'went', 'suggest', 'inward', 'mh', 'youngest', 'uz', 'apparently', \"you'll\", 'herself', 'buy', 'problems', 'hi', 'md', 'au', 'greatest', 'turn', 'low', 'following', 'later', 'doubtful', 'needed', 'sh', 'zm', 'another', 'their', \"she'd\", 'parts', 'likely', \"there'd\", 'ni', 'around', 'each', 'upwards', 'tip', 'poorly', \"when'd\", 'ee', 'respectively', 'http', 'both', \"weren't\", 'oh', 'he', 'of', 'saw', 'www', 'done', 'indicated', 'would', \"daren't\", 'general', 'wish', 'interests', 'above', 'also', 'mq', 'x', 'finds', 'research', 'amount', 'jp', 'various', 'anyway', 'already', 'past', 'being', 'widely', \"can't\", 'everywhere', 'lately', 'shes', 'cu', 'seen', 'particular', 'what', 'obviously', 'states', 'till', 'site', 'certain', 'merely', \"aren't\", 'its', 'etc', 'no-one', 'most', 'bg', 'faces', 'there', 'pp', 'truly', 'o', \"'ll\", 'ba', 'gs', 'latter', 'couldn', 'throughout', 'hid', 'third', 'il', 'using', 'any', 'whichever', 'directly', 'fify', 'needing', 'has', 'sb', 'bt', 'gy', \"let's\", 'adj', 'ii', 'net', 'something', \"he's\", 'whole', 'her', 'con', 'early', 'together', 'hundred', 'nd', 'put', 'believe', 'seemed', 'thank', 'interesting', 'al', 'shed', 'cn', 'cannot', 'wants', 'making', 'outside', 'the', 'affected', 'though', 'unto', 'mk', \"t's\", 'vg', 'iq', \"how'll\", 'as', 'we', 'actually', 'did', 'meanwhile', 'worked', 'working', 'were', 'afterwards', 'mean', 'becoming', 'ever', 'w', 'ug', 'similar', 'ring', \"we'd\", \"where'll\", 'why', 'asking', 'downwards', 'dare', 'specifically', 'kp', 'high', 'therein', 'exactly', 'information', 'ref', 'somewhere', 'km', 'full', \"you've\", 'ms', 'entirely', 'isn', 'refs', 'cx', 'web', \"hadn't\", 'hell', 'sm', 'ends', 'line', 'concerning', 'rather', 'presents', 'others', 'lr', \"c's\", 'may', 'aint', 'related', \"a's\", 'mine', 'slightly', 'su', 'giving', 'say', 'want', 'herein', 'show', 'pr', 'opening', 'tries', 'wanting', 'apart', 'ill', 'tk', 'pm', 'mu', 'a', 'tj', 'sv', 'co', 'years', 'gw', 'notwithstanding', 'like', 'on', 'recently', 'likewise', 'beside', 'goods', 'none', 'be', \"she'll\", 'somehow', 'thereby', 'ltd', 'self', 'came', 'thoroughly', 'beings', 'mp', 'keeps', 'back', 'minus', 'tm', 'cy', 'seem', 'four', 'non', 'msie', 'doing', 'you', 'whence', 'fo', 'bn', 'insofar', 'thanks', 'puts', 'take', 'fire', 'it', 'move', 'pa', 'strongly', 'ma', 'kr', \"why'd\", 'ec', 'p', 'hereupon', \"what'll\", 'whoever', 'sec', 'please', 'fact', 'thatve', 'sk', 'been', 'hasn', 'kn', 'q', 'let', 'case', 'can', 'ro', 'ht', 'dm', 'liked', 'i', 'sincere', 'abroad', 'f', 'indeed', 'hello', 'thirty', 'becomes', 'es', 'best', 'contain', 'furthering', 'im', 'ord', 'great', 'whither', 'af', 'specified', 'eleven', 'webpage', 'welcome', 'mc', 'nine', 'behind', 'myse”', 'younger', 'keep', 'whereas', 'youll', 'showed', 'former', 'now', 'ki', 'need', 'si', 'opposite', 'downing', 'never', 'they', 'theyve', 'theyll', 'text', 'hu', \"might've\", 'example', 'v', 'mn', 'while', 'twice', 'who', 'thence', 'present', 'dk', 'will', 'eh', 'wells', 'doesn', 'somethan', 'few', 'grouping', \"how'd\", 'indicates', 'looks', 'pg', 'interested', 'inc', 'fj', 'thus', 'causes', 'is', 'de', 'b', 'lest', 'vols', 'given', 'pn', 'awfully', 'cry', 'except', 'backs', 'useful', 'tv', 'older', 'meantime', 'vs', 'furthered', 'pointing', 'wholl', 'begin', 'successfully', 'and', 'werent', 'onto', 'everyone', 'didn', 'c', 'them', 'follows', 'some', 'n', 'j', 'sl', 'formerly', 'whim', 'members', 've', 'reasonably', 'beginnings', 'mill', 'beyond', 'ai', 'soon'}\n"
     ]
    }
   ],
   "source": [
    "print(stopwords('en'))"
   ]
  },
  {
   "cell_type": "code",
   "execution_count": 43,
   "metadata": {},
   "outputs": [
    {
     "name": "stdout",
     "output_type": "stream",
     "text": [
      "{'أنتم', 'بماذا', 'أخ', 'ثمّ', 'منها', 'التى', 'سبحان', 'كما', 'للامم', 'بل', 'فيه', 'ثلاثة', 'عندما', 'لَِسْنَا', 'الاول', 'عليك', 'ممن', 'بها', 'ذانِ', 'عام', 'اول', 'زيارة', 'وَيْ', 'أيّ', 'مكانكم', 'واضاف', 'أولئكم', 'عسى', 'كرب', 'أنتما', 'يمكن', 'هَاتِي', 'مابرح', 'إياكما', 'امس', 'ذواتا', 'وقف', 'لوما', 'أمامك', 'عن', 'ويكأنّ', 'طالما', 'بي', 'الذين', 'أب', 'دونك', 'هَيْهَاتَ', 'يكون', 'كذلك', 'او', 'حوالى', 'تانِ', 'عاما', 'هل', 'هَاتِه', 'لات', 'واهاً', 'شبه', 'أما', 'إذ', 'تجاه', 'غدا', 'عشر', 'عَمَّا', 'سنة', 'هَاتَيْنِ', 'بَلْهَ', 'كَأَنَّ', 'أَنَّ', 'أو', 'الاخيرة', 'حيَّ', 'أنتن', 'كاد', 'كيت', 'بيد', 'لَسْتُم', 'قبل', 'هم', 'إلَيْكَ', 'عليه', 'تينك', 'اذا', 'مادام', 'لَيْسَ', 'الذاتي', 'هيّا', 'لو', 'معاذ', 'اي', 'ظلّ', 'أنت', 'أولالك', 'ايضا', 'هناك', 'واكد', 'قطّ', 'عليها', 'اخلولق', 'ذو', 'الذي', 'ّأيّان', 'ريث', 'اف', 'التي', 'آي', 'ذلكما', 'الاولى', 'كلَّا', 'نفسه', 'حاليا', 'صباح', 'إذن', 'كأيّن', 'لَسْتُ', 'إليكنّ', 'وراءَك', 'رويدك', 'كأين', 'برس', 'جميع', 'بشكل', 'به', 'آمينَ', 'لَيْسُوا', 'حاشا', 'ذيت', 'طَق', 'رجع', 'هَذِه', 'فيها', 'مكانَك', 'اكد', 'اما', 'لا', 'لكما', 'سَاءَ', 'اليوم', 'دون', 'السابق', 'إلى', 'تلكم', 'إليكما', 'ذلك', 'نحن', 'خلا', 'إياهما', 'آهاً', 'اثر', 'راح', 'وكان', 'إذاً', 'أوشك', 'عَدَسْ', 'أجمع', 'ذوا', 'قال', 'كل', 'إي', 'ثمّة', 'انقلب', 'الألى', 'الثاني', 'بلى', 'طفق', 'حم', 'بات', 'فيما', 'أصبح', 'صهٍ', 'أقبل', 'ارتدّ', 'لمّا', 'ماانفك', 'كِخ', 'كي', 'حاي', 'إياها', 'هَجْ', 'حَبَّذَا', 'كلّما', 'أولاء', 'كيفما', 'ا', 'لدن', 'ابتدأ', 'تانِك', 'هَاتانِ', 'لن', 'وكانت', 'لَيْسَتْ', 'وقد', 'هيا', 'بكما', 'و6', 'مثل', 'إذا', 'أم', 'ذا', 'ماذا', 'إياكن', 'كلتا', 'هَذانِ', 'ذانك', 'بين', 'مع', 'احد', 'المقبل', 'ايار', 'سرعان', 'أخذ', 'بعد', 'علًّ', 'تم', 'نهاية', 'مما', 'إياهم', 'ثم', 'صار', 'لَسْتُمَا', 'كذا', 'استحال', 'هَذِي', 'صهْ', 'ولا', 'هي', 'أكثر', 'لَعَلَّ', 'أ', 'ذِي', 'أيا', 'شخصا', 'عدا', 'مساء', 'إن', 'عشرة', 'ذلكن', 'نِعِمّا', 'حتى', 'فيم', 'كم', 'باسم', 'لَسْتُنَّ', 'هاؤم', 'قوة', 'له', 'أنشأ', 'إياهن', 'أولئك', 'تَيْنِ', 'نَخْ', 'اعلنت', 'أقل', 'انها', 'خلال', 'مَنْ', 'ذواتي', 'منذ', 'مافتئ', 'اللاتي', 'مليار', 'غير', 'على', 'هلّا', 'هَذا', 'ولم', 'إياه', 'لكم', 'هذه', 'إليكَ', 'صفر', 'أضحى', 'اللذين', 'بسّ', 'اعادة', 'فى', 'هنا', 'و', 'هيت', 'وُشْكَانََ', 'اللتين', 'إيانا', 'حَتَّى', 'لم', 'امام', 'أمسى', 'كان', 'الان', 'إياك', 'ضمن', 'علق', 'ان', '،', 'حَذارِ', 'جلل', 'حين', 'متى', 'شَتَّانَ', 'ف', 'أوّهْ', 'هكذا', 'من', 'أمّا', 'عدد', 'كانت', 'يوم', 'هذا', 'عند', 'وقال', 'إنّما', 'الف', 'مكانكما', 'الذى', 'هاكَ', 'ـ', 'وان', 'كأيّ', 'أنا', 'عين', 'تلقاء', 'إياي', 'آض', 'ذَيْنِ', 'لكي', 'مليون', 'لما', 'واحد', 'لَسْنَ', 'ثُمَّ', 'بما', 'الماضي', 'اكثر', 'ب', 'اللائي', 'إياكم', 'بطآن', 'أينما', 'أنّى', 'الا', 'هاهنا', 'هلمَّ', 'لَيْسَا', 'ايام', 'لعمر', 'تِي', 'حار', 'ومن', 'بان', 'لَيْسَتَا', 'وهو', 'بخٍ', 'قام', 'عامة', 'كلاهما', 'بكم', 'بك', 'نفس', 'بِئْسَ', 'بنا', 'لئن', 'هبّ', 'أي', 'وهي', 'رُبَّ', 'بَسْ', 'إذما', 'في', 'تِه', 'لنا', 'وقالت', 'بعض', 'اربعة', 'مِن', 'هما', 'وفي', 'أمامكَ', 'إليكم', 'تلكما', 'لقاء', 'لكن', 'بن', 'أََيُّ', 'هَذَيْنِ', 'ذينك', 'لَكِنَّ', 'حسب', 'آه', 'لي', 'مقابل', 'مكانكنّ', 'ذاك', 'إِنَّ', 'هو', 'ذلكم', 'اللذان', 'مايو', 'سَاءَمَا', 'واوضح', 'بسبب', 'أين', 'مازال', 'انه', 'مهما', 'جير', 'هن', 'وا', 'لَيْتَ', 'لكنَّما', 'مه', 'نعم', 'لكيلا', 'لها', 'حول', 'كيف', 'انبرى', 'كأنّما', 'هَؤلاء', 'طاق', 'كلا', 'هنالك', 'إمّا', 'تبدّل', 'ذات', 'اللواتي', 'إلّا', 'ها', 'اخرى', 'لك', 'ذِه', 'عوض', 'ما', 'عدم', 'اللتان', 'كلم', 'اجل', 'سوف', 'لدى', 'ضد', 'جعل', 'سوى', 'لاسيما', 'لوكالة', 'قلما', 'عاد', 'حرى', 'الثانية', 'لَسْتَ', 'الوقت', 'فلان', 'الى', 'فان', 'إيهٍ', 'مذ', 'الألاء', 'أنتِ', 'فو', 'تحوّل', 'ألا', 'اطار', 'أجل', 'عدة', 'قد', 'اللتيا', 'أُفٍّ', 'بمن', 'نحو', 'تلك', 'شرع', 'حيثما', 'سنوات', 'كليكما', 'واضافت', 'لَسْتِ', 'أن', 'بضع', 'كليهما', 'حيث', 'بكن', 'لولا', 'نِعْمَ'}\n"
     ]
    }
   ],
   "source": [
    "print(stopwords('ar'))"
   ]
  },
  {
   "cell_type": "code",
   "execution_count": 44,
   "metadata": {},
   "outputs": [
    {
     "name": "stdout",
     "output_type": "stream",
     "text": [
      "{'egale', 'furent', 'certain', 'malgré', 'quatre', 'tic', 'serez', 'h', 'chaque', 'derrière', 'première', 'etc', 'premièrement', 'toi', 'elles', 'neanmoins', 'bon', 'mien', 'naturelle', 'êtes', 'notamment', 'ayons', 'troisième', 'tellement', 'contre', 'debout', 'tienne', 'o', 'nôtres', 'combien', 'font', 'd', 'un', 'suit', 'aurons', 'concernant', 'devers', 'auxquels', 'ou', 'va', 'soixante', 'lors', 'avais', 'sienne', 'vlan', 'donc', 'vive', 'hein', 'serai', 'maintenant', 'relative', 'unique', 'passé', 'restent', 'e', 'tes', 'comment', 'mais', 'm', 'il', 'pff', 'soi-même', 'desormais', 'ouvert', 'dessus', 'était', 'pas', 'parmi', 'precisement', 'fait', 'specifique', 'plouf', 'cinquante', 'toutefois', 'peuvent', 'être', 'celle-ci', 'u', 'nous-mêmes', 'dessous', 'la', 'suivants', 'parlent', 'ouverte', 'k', 'sera', 'tu', 'eusse', 'différente', 'pièce', 'toutes', 'couic', 'hurrah', 'juste', 'eue', 'ayez', 'auraient', 'sacrebleu', 'pfut', 'parce', 'brrr', 'pfft', 'surtout', 'ça', 'possible', 'peut', 'tandis', 'nommés', 'suffit', 'une', 'eut', 'toute', 'gens', 'soyons', 'afin', 'allô', 'probable', 'eusses', 'hue', 'egales', 'et', 'étés', 'parfois', 'assez', 'crac', 'as', 'seras', 'même', 'differents', 'probante', 'étant', 'quatorze', 'plusieurs', 'sinon', 'certains', 'outre', 'depuis', 'huitième', 'jusqu', 'notre', 'nous', 'miennes', 'uniformement', 'divers', 'dehors', 'trois', 'memes', 'le', 'fussiez', 'différents', 'aucuns', 'rarement', 'différent', 'nos', 'sixième', 'w', 'car', 'chut', 'eues', 'cependant', 'sapristi', 'cent', 'celle-là', 'septième', 'semblaient', 'ils', 's', 'aurez', 'quelle', 'quels', 'essai', 'different', 'vos', 'envers', 'ouias', 'sous', 'clic', 'na', \"aujourd'hui\", 'dix-sept', 'auquel', 'état', 'fois', 'nul', 'bah', 'chère', 'avons', 'peux', 'fusses', 'voilà', 'meme', 'sont', 'rare', 'eussiez', 'neuvième', 'bigre', 'ho', 'nouveau', 'tenant', 'eûtes', 'houp', 'son', 'ait', 'derriere', 'ceux-ci', 'aupres', 'necessairement', 'reste', 'bravo', 'diverses', 'dix-huit', 'serions', 'aviez', 'comparables', 'par', 'soyez', 'voici', 'tout', 'devant', 'tous', 'desquels', 'lès', 'tiennes', 'aujourd', 'vifs', 'exactement', 'possibles', 'ai', 'vôtres', 'parler', 'bien', 'naturel', 'vous', 'tardive', 'apres', 'moindres', 'differentes', 'extenso', 'fussent', 'ton', 'certaines', 'pure', 'se', 'celui-là', 'dix-neuf', 'aient', 'lesquels', 'doit', 'y', 'chères', 'tenir', 'pur', 'restant', 'mine', 'entre', 'ne', 'ouverts', 'seize', 'quel', 'aies', 'pense', 'té', 'o|', 'ici', 'z', 'quiconque', 'parle', 'pourrait', 'boum', 'haut', 'relativement', 'étées', 'hep', 'allo', 'chers', 'hors', 'sommes', 'suivant', 'vé', 'devrait', 'ouste', 'beau', 'particulier', 'comme', 'douze', 'importe', 'a', 'cher', 'me', 'vous-mêmes', 'quant', 'à', 'elle', 'fusse', 'après', 'aurai', 'semble', 'seriez', 'sept', 'fut', 'unes', 'holà', 'sa', 'possessifs', 'avait', 'auras', 'flac', 'avant', 'seront', 'compris', 'suffisant', 'celles', \"quelqu'un\", 'nouveaux', 'on', 'moi', 'allons', 'autrui', 'en', 'eu', 'tente', 'quand', 'fût', 'sans', 'étais', 'aie', 'neuf', 'maint', 'durant', 'rares', 'chacune', 'lorsque', 'dos', 'anterieure', 'effet', 'quelles', 'revoilà', 'sois', 'différentes', 'olé', 't', 'souvent', 'ceci', 'procedant', 'fûmes', 'l', 'oust', 'etre', 'pire', 'pu', 'aux', 'directement', 'diverse', 'delà', 'ceux-là', 'encore', 'que', 'ce', 'mon', 'selon', 'non', 'vers', 'deuxièmement', 'fussions', 'ô', 'longtemps', 'ohé', 'faisaient', 'treize', 'vivat', 'huit', 'suis', 'parseme', 'maximale', 'étiez', 'votre', 'autrefois', 'aurais', 'avions', 'beaucoup', 'celles-ci', 'cette', 'hé', 'leurs', 'plutôt', 'quatre-vingt', 'r', 'attendu', 'tres', 'devra', 'aurait', 'onzième', 'semblent', 'autre', 'directe', 'vives', 'lui-même', 'là', 'excepté', 'six', 'pourquoi', 'ma', 'fi', 'mienne', 'néanmoins', 'via', 'p', 'merci', 'lui-meme', 'ès', 'dès', 'ayant', 'moins', 'autrement', 'faites', 'moi-meme', 'cinquantième', 'dring', 'q', 'dire', 'quanta', 'toujours', 'sein', 'autres', 'cinq', 'i', 'ah', 'plus', 'valeur', 'seule', 'pif', 'sent', 'suffisante', 'pouvait', 'où', 'f', 'partant', 'chacun', 'es', 'certaine', 'doivent', 'près', 'touchant', 'autant', 'prealable', 'dite', 'minimale', 'naturelles', 'remarquable', 'puis', 'desquelles', 'g', 'uns', 'lui', 'hou', 'bas', 'cet', 'aurions', 'floc', 'seraient', 'telle', 'suivantes', 'fais', 'puisque', 'dits', 'eûmes', 'pan', 'sauf', 'seulement', 'tend', 'telles', 'hélas', 'eus', 'tsouin', 'du', 'zut', 'celle', 'alors', 'hum', 'las', 'ont', 'les', 'mince', 'tien', 'euh', 'vif', 'plein', 'dont', 'lequel', 'dans', 'paf', 'enfin', 'basee', 'hop', 'deuxième', 'ha', 'aura', 'ta', 'moyennant', 'te', 'elles-mêmes', 'miens', 'plupart', 'particulière', 'superpose', 'cinquantaine', 'voient', 'aucune', 'bat', 'dernier', 'tiens', 'strictement', 'avez', 'vas', 'hem', 'laquelle', 'si', 'onze', 'voire', 'désormais', 'possessif', 'troisièmement', 'eux', 'tels', 'feront', 'siennes', 'serais', 'est', 'subtiles', 'chiche', 'étaient', 'dixième', 'peu', 'ci', 'dix', 'uniques', 'vont', 'dedans', 'auront', 'mille', 'v', 'sujet', 'toc', 'quinze', 'abord', 'pendant', 'elle-même', 'stop', 'ollé', 'anterieur', 'personne', 'quatrièmement', 'hi', 'eh', 'fûtes', 'allaient', 'au', 'quoique', 'auxquelles', 'leur', 'ces', 'pour', 'qu', 'quelconque', 'cinquième', 'vôtre', 'toi-même', 'celles-là', 'deux', 'revoici', 'semblable', 'qui', 'serait', 'douzième', 'pres', 'da', 'soit', 'ses', 'suivre', 'tac', 'avec', 'très', 'quoi', 'avoir', 'ainsi', 'ouf', 'vu', 'clac', 'psitt', 'aussi', 'avaient', 'permet', 'sait', 'vais', 'parole', 'exterieur', 'ore', 'ni', 'de', 'mes', 'eussions', 'â', 'auriez', 'comparable', 'faisant', 'quatrième', 'sien', 'b', 'celui', 'hui', 'nombreux', 'mêmes', 'lesquelles', 'aucun', 'absolument', 'hormis', 'premier', 'des', 'été', 'jusque', 'oh', 'retour', 'eux-mêmes', 'force', 'certes', 'tel', 'soi', 'restrictif', 'multiples', 'necessaire', 'particulièrement', 'eussent', 'sur', 'anterieures', 'eût', 'moi-même', 'proche', 'speculatif', 'celà', 'étée', 'ceux', 'suivante', 'quelques', 'chez', 'environ', 'voie', 'egalement', 'quarante', 'deja', 'multiple', 'rend', 'serons', 'tant', 'c', 'quant-à-soi', 'rendre', 'specifiques', 'celui-ci', 'début', 'etant', 'nôtre', 'pourrais', 'ailleurs', 'trente', 'mot', 'n', 'rien', 'x', 'j', 'soient', 'laisser', 'façon', 'fus', 'droite', 'seul', 'je', 'trop', 'tsoin', 'derniere', 'malgre', 'pouah', 'vingt', 'quelque', 'nombreuses', 'dit', 'siens', 'duquel', 'personnes', 'étions', 'cela', 'eurent'}\n"
     ]
    }
   ],
   "source": [
    "print(stopwords('fr'))"
   ]
  },
  {
   "cell_type": "code",
   "execution_count": 50,
   "metadata": {},
   "outputs": [
    {
     "name": "stdout",
     "output_type": "stream",
     "text": [
      "{'इन्हीं', 'बनि', 'रहा', 'का', 'वहाँ', 'हुअ', 'जितना', 'भीतर', 'इसका', 'जा', 'या', 'आप', 'किंहों', 'किंहें', 'कुछ', 'उनके', 'लेकिन', 'अभि', 'पर', 'कौन', 'था', 'वग़ैरह', 'एसे', 'कइ', 'उनका', 'इन्हें', 'इसके', 'तरह', 'वगेरह', 'बिलकुल', 'अपने', 'अपना', 'उनकि', 'की', 'पहले', 'किसे', 'जब', 'तो', 'वुह', 'ही', 'करता', 'होती', 'यही', 'उसि', 'कहते', 'उसके', 'वरग', 'काफ़ी', 'तिन्हों', 'नहीं', 'भितर', 'तिन', 'कौनसा', 'गया', 'कुल', 'दवारा', 'तिंहें', 'उनकी', 'कर', 'काफि', 'इसे', 'जिन्हों', 'दो', 'पूरा', 'बाला', 'भी', 'अत', 'जहां', 'यहां', 'साबुत', 'उन्हीं', 'और', 'तिस', 'वे', 'संग', 'किन्हों', 'से', 'इस', 'इसकी', 'साथ', 'कोई', 'बहि', 'किर', 'एक', 'सबसे', 'हें', 'यिह', 'यदि', 'ऱ्वासा', 'उन्हों', 'जिंहों', 'तब', 'इन', 'उन्हें', 'द्वारा', 'किया', 'बहुत', 'घर', 'वर्ग', 'किस', 'पे', 'जीधर', 'है', 'करने', 'जिस', 'नहिं', 'व', 'निचे', 'एस', 'रहे', 'हुए', 'इनका', 'कहा', 'जेसा', 'जिंहें', 'सो', 'दूसरे', 'कितना', 'इन्हों', 'हो', 'इसमें', 'तक', 'निहायत', 'ना', 'किन्हें', 'इसकि', 'जिन', 'वहिं', 'नीचे', 'लिए', 'ने', 'सकते', 'दबारा', 'हैं', 'साभ', 'होना', 'कई', 'जिधर', 'तिसे', 'यहाँ', 'भि', 'जेसे', 'मानो', 'के', 'हि', 'जैसे', 'कोनसा', 'में', 'वहां', 'इंहों', 'तिंहों', 'इंहें', 'दुसरा', 'जहाँ', 'एवं', 'अप', 'किसि', 'हुइ', 'वाले', 'थि', 'कोन', 'बनी', 'उनको', 'इसी', 'उसे', 'किसी', 'होता', 'मे', 'अपनि', 'जिन्हें', 'सकता', 'उसी', 'कोइ', 'जैसा', 'ये', 'सभि', 'होने', 'अदि', 'थी', 'हुआ', 'इतयादि', 'करना', 'इत्यादि', 'ऐसे', 'ओर', 'उंहिं', 'सभी', 'अभी', 'सारा', 'आदि', 'तिन्हें', 'अंदर', 'जिसे', 'वहीं', 'करते', 'अपनी', 'बाद', 'मगर', 'रखें', 'हुई', 'पुरा', 'होति', 'दुसरे', 'उंहें', 'फिर', 'कि', 'यहि', 'होते', 'को', 'दिया', 'यह', 'इंहिं', 'उंहों', 'न', 'हे', 'लिये', 'थे', 'इसि', 'रवासा', 'बही', 'वह', 'उस', 'जो', 'करें', 'उन'}\n"
     ]
    }
   ],
   "source": [
    "print(stopwords('hi'))"
   ]
  }
 ],
 "metadata": {
  "kernelspec": {
   "display_name": "Python 3",
   "language": "python",
   "name": "python3"
  },
  "language_info": {
   "codemirror_mode": {
    "name": "ipython",
    "version": 3
   },
   "file_extension": ".py",
   "mimetype": "text/x-python",
   "name": "python",
   "nbconvert_exporter": "python",
   "pygments_lexer": "ipython3",
   "version": "3.11.9"
  }
 },
 "nbformat": 4,
 "nbformat_minor": 2
}
